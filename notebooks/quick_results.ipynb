{
 "cells": [
  {
   "cell_type": "code",
   "execution_count": 20,
   "metadata": {},
   "outputs": [],
   "source": [
    "import leukemiadrugscreen as leukdev\n",
    "import matplotlib.pyplot as plt\n",
    "import numpy as np\n",
    "import pandas as pd"
   ]
  },
  {
   "cell_type": "code",
   "execution_count": 21,
   "metadata": {},
   "outputs": [],
   "source": [
    "def get_ec50_emax(foldername):\n",
    "    #foldername = \"DVP_Rep3\"\n",
    "    stack = leukdev.DeviceStack.from_folder(foldername)\n",
    "    # 50:50 assumption\n",
    "    region12 = leukdev.Region.from_point((0.5, 0.5, 0), stack)\n",
    "    region13 = leukdev.Region.from_point((0.5, 0, 0.5), stack)\n",
    "    region23 = leukdev.Region.from_point((0, 0.5, 0.5), stack)\n",
    "    region123 = leukdev.Region.from_point((1/3, 1/3, 1/3), stack)\n",
    "    # Results\n",
    "    C12 = region12.fit_hill().C\n",
    "    C13 = region13.fit_hill().C\n",
    "    C23 = region23.fit_hill().C\n",
    "    C123 = region123.fit_hill().C\n",
    "\n",
    "    E0 = 1\n",
    "    E1 = stack.singledrugfits[0].Emax\n",
    "    E2 = stack.singledrugfits[1].Emax\n",
    "    E3 = stack.singledrugfits[2].Emax\n",
    "    E12 = region12.fit_hill().Emax\n",
    "    E13 = region13.fit_hill().Emax\n",
    "    E23 = region23.fit_hill().Emax\n",
    "    E123 = region123.fit_hill().Emax\n",
    "\n",
    "    results = {\n",
    "        \"experiment\": foldername,\n",
    "        \"drug1name\": stack.drug_names[0],\n",
    "        \"drug2name\": stack.drug_names[1],\n",
    "        \"drug3name\": stack.drug_names[2],\n",
    "        \"C1\": [stack.singledrugfits[0].C],\n",
    "        \"C2\": [stack.singledrugfits[1].C],\n",
    "        \"C3\": [stack.singledrugfits[2].C],\n",
    "        \"C12\": [C12],\n",
    "        \"C13\": [C13],\n",
    "        \"C23\": [C23],\n",
    "        \"C123\": [C123],\n",
    "        \"E1\": [E1],\n",
    "        \"E2\": [E2],\n",
    "        \"E3\": [E3],\n",
    "        \"E12\": [E12],\n",
    "        \"E13\": [E13],\n",
    "        \"E23\": [E23],\n",
    "        \"E123\": [E123]}\n",
    "    df = pd.DataFrame(results)\n",
    "    return df"
   ]
  },
  {
   "cell_type": "code",
   "execution_count": 22,
   "metadata": {},
   "outputs": [
    {
     "name": "stdout",
     "output_type": "stream",
     "text": [
      "  experiment     drug1name     drug2name     drug3name          C1  \\\n",
      "0   DVN_Rep1    Nelarabine  Daunorubicin   Vincristine  136.701625   \n",
      "1   DVN_Rep2  Daunorubicin   Vincristine    Nelarabine   58.342325   \n",
      "2   DVN_Rep3   Vincristine    Nelarabine  Daunorubicin    8.663918   \n",
      "3   DVP_Rep1  Daunorubicin   Vincristine  Prednisolone   48.971074   \n",
      "4   DVP_Rep2  Prednisolone  Daunorubicin   Vincristine   81.012643   \n",
      "5   DVP_Rep3   Vincristine  Prednisolone  Daunorubicin    3.908882   \n",
      "\n",
      "           C2          C3       C12       C13       C23      C123        E1  \\\n",
      "0   73.326388   22.691683  1.177877  0.502729  0.904256  0.969515  0.176069   \n",
      "1   27.610042  107.520424  1.080885  1.731215  0.506739  1.097194  0.193726   \n",
      "2  130.478943   44.608508  0.791761  1.599919  1.386980  1.282113  0.498252   \n",
      "3    3.214438  102.896604  2.694197  1.159524  0.547356  2.301974  0.389925   \n",
      "4   67.801635    2.001748  1.468887  0.878217  3.823596  4.036949  0.542085   \n",
      "5  154.981395   65.545408  0.690951  2.543952  1.108090  2.293872  0.516006   \n",
      "\n",
      "         E2        E3       E12       E13       E23      E123  \n",
      "0  0.112936  0.149740  0.144392  0.386429  0.118186  0.124995  \n",
      "1  0.130661  0.328030  0.279399  0.115815  0.497473  0.334243  \n",
      "2  0.317460  0.287899  0.443628  0.188358  0.121586  0.230852  \n",
      "3  0.493070  0.517656  0.176072  0.400067  0.596356  0.269861  \n",
      "4  0.308807  0.532601  0.388814  0.647937  0.218659  0.182154  \n",
      "5  0.520728  0.400156  0.572945  0.313666  0.381152  0.360815  \n"
     ]
    }
   ],
   "source": [
    "foldernames = [\"DVN_Rep1\", \"DVN_Rep2\", \"DVN_Rep3\", \"DVP_Rep1\", \"DVP_Rep2\", \"DVP_Rep3\"]\n",
    "df = pd.DataFrame()\n",
    "\n",
    "for folder in foldernames:\n",
    "    dfnew = get_ec50_emax(folder)\n",
    "    df = pd.concat([df, dfnew], ignore_index = True)\n",
    "\n",
    "print(df)"
   ]
  },
  {
   "cell_type": "code",
   "execution_count": 23,
   "metadata": {},
   "outputs": [],
   "source": [
    "df.to_csv(\"ec50_emax_results.csv\")"
   ]
  }
 ],
 "metadata": {
  "kernelspec": {
   "display_name": "drug",
   "language": "python",
   "name": "python3"
  },
  "language_info": {
   "codemirror_mode": {
    "name": "ipython",
    "version": 3
   },
   "file_extension": ".py",
   "mimetype": "text/x-python",
   "name": "python",
   "nbconvert_exporter": "python",
   "pygments_lexer": "ipython3",
   "version": "3.10.4 (tags/v3.10.4:9d38120, Mar 23 2022, 23:13:41) [MSC v.1929 64 bit (AMD64)]"
  },
  "orig_nbformat": 4,
  "vscode": {
   "interpreter": {
    "hash": "b8c2852233f757a048e6d3dfb78a6d130428b586d22b07ff1de42e5fa3b8a3a1"
   }
  }
 },
 "nbformat": 4,
 "nbformat_minor": 2
}
